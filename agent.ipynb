{
 "cells": [
  {
   "cell_type": "markdown", 
   "id": "e51061d0",
   "metadata": {},
   "source": [
    "# Install openai-agent SDK"
   ]
  },
  {
   "cell_type": "code",
   "execution_count": null,
   "id": "d2460c29",
   "metadata": {},
   "outputs": [],
   "source": [
    "!pip install \"openai-agents[litellm]\""
   ]
  },
  {
   "cell_type": "markdown",
   "id": "bdec142d",
   "metadata": {},
   "source": [
    "# Make your Jupyter Notebook capable of running asynchronous functions."
   ]
  },
  {
   "cell_type": "code",
   "execution_count": null,
   "id": "58d97be7",
   "metadata": {},
   "outputs": [],
   "source": [
    "import nest_asyncio\n",
    "nest_asyncio.apply()"
   ]
  },
  {
   "cell_type": "code",
   "execution_count": null,
   "id": "d79b92b8",
   "metadata": {},
   "outputs": [],
   "source": [
    "from agents import Agent, Runner, function_tool, set_tracing_disabled\n",
    "from agents.extensions.models.litellm_model import LitellmModel\n",
    "import os \n",
    "from google.colab import userdata\n",
    "\n",
    "set_tracing_disabled(disabled=True)\n",
    "\n",
    "model = \"gemini/gemini-2.0-flash\"\n",
    "api_key = os.environ[\"GEMINI_API_KEY\"] = userdata.get(\"GEMINI_API_KEY\")\n",
    "\n",
    "@function_tool\n",
    "def human(name: str):\n",
    "  print(f\"{name}\")\n",
    "  return f\"your name {name} mean is  : \"\n",
    "\n",
    "\n",
    "agent = Agent(\n",
    "  name = \"haikius assistant\",\n",
    "  instructions = \"you response in haikus and tell human of name meaning and their origin only\",\n",
    "  model=LitellmModel(model=model, api_key=api_key),\n",
    "  tools = [human],\n",
    "  )\n",
    "\n",
    "result = await Runner.run(agent, \"what is the meaning of name kim taehyung ?\")\n",
    "print(result.final_output)\n"
   ]
  }
 ],
 "metadata": {
  "kernelspec": {
   "display_name": "Python 3",
   "language": "python",
   "name": "python3"
  },
  "language_info": {
   "codemirror_mode": {
    "name": "ipython",
    "version": 3
   },
   "file_extension": ".py",
   "mimetype": "text/x-python",
   "name": "python",
   "nbconvert_exporter": "python",
   "pygments_lexer": "ipython3",
   "version": "3.12.5"
  }
 },
 "nbformat": 4,
 "nbformat_minor": 5
}
